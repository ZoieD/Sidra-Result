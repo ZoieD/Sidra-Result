{
 "cells": [
  {
   "cell_type": "code",
   "execution_count": 1,
   "metadata": {},
   "outputs": [],
   "source": [
    "import numpy as np\n",
    "import pandas as pd\n",
    "import os"
   ]
  },
  {
   "cell_type": "code",
   "execution_count": 18,
   "metadata": {
    "scrolled": true
   },
   "outputs": [],
   "source": [
    "#from grf file get data\n",
    "def get_data(filename):\n",
    "    df = pd.read_table(filename)\n",
    "# def get_data():\n",
    "#     df = pd.read_table('data/02_101A.grf')\n",
    "    if (df.columns.values != 'DPLOT v1.6'):\n",
    "        print(filename)\n",
    "    t = df.loc[df['DPLOT v1.6'].str.contains(r'\\s+[0]$')].index.tolist()\n",
    "    arr = df.values\n",
    "    data_class = int(df.iat[1, 0])\n",
    "    data_name = []\n",
    "    normalised_x = []\n",
    "    normalised_y = []\n",
    "    for i in range(data_class):\n",
    "        data_x = []\n",
    "        data_y = []\n",
    "        data_name.append(df.iat[int(t[i])+1,0])\n",
    "        if i == 0:\n",
    "            x1 = df[3:int(t[i])].values\n",
    "            for j in range(x1.shape[0]):\n",
    "                data_x.append(''.join(x1[j]).split(',')[0])\n",
    "                data_y.append(''.join(x1[j]).split(',')[1])\n",
    "        else:\n",
    "            x2 = df[int(t[i-1])+3:int(t[i])].values\n",
    "            for k in range(x2.shape[0]):\n",
    "                data_x.append(''.join(x2[k]).split(',')[0])\n",
    "                data_y.append(''.join(x2[k]).split(',')[1])\n",
    "        normalised_x.append(np.array(data_x))\n",
    "        normalised_y.append(np.array(data_y))\n",
    "    data_module = str(df.iat[t[-1]+2, 0])\n",
    "    if \"pressure\" in data_module:\n",
    "        data_module = 'Pressure'\n",
    "    elif \"impulse\" in data_module:\n",
    "        data_module = 'Impulses'\n",
    "    else:\n",
    "        return false\n",
    "    title = df.iat[t[-1]+3,0].replace(\"(\",\"\").replace(\")\",\"\")\n",
    "    N = title.split(', ')[0].split(' = ')[1]\n",
    "    lL = title.split(', ')[1].split(' = ')[1]\n",
    "    hH = title.split(', ')[2].split(' = ')[1]\n",
    "    LH = title.split(', ')[3].split(' = ')[1]\n",
    "    return data_module, N, lL, hH, LH, np.array(data_name),np.array(normalised_x),np.array(normalised_y)\n",
    "# get_data()"
   ]
  },
  {
   "cell_type": "code",
   "execution_count": 20,
   "metadata": {},
   "outputs": [
    {
     "name": "stdout",
     "output_type": "stream",
     "text": [
      "Save Pressure Data Success!\n",
      "Save Impulses Data Success!\n"
     ]
    }
   ],
   "source": [
    "for dirName, subdirList, fileList in os.walk('./data'):\n",
    "    x_pressure = []\n",
    "    x_impulses = []\n",
    "    for fname in fileList:\n",
    "        x = []\n",
    "        y = []\n",
    "        filename = str(dirName + '/' + fname)\n",
    "        data_module, N, lL, hH, LH, data_name, normalised_x, normalised_y = get_data(filename)\n",
    "        if data_module == 'Pressure':\n",
    "            for i in range(len(data_name)):\n",
    "                train = []\n",
    "                for j in range(len(normalised_x[i])):\n",
    "                    train.append([N, lL, hH, LH, data_name[i], normalised_x[i][j]])\n",
    "                train = np.array(train).reshape(-1, 6)\n",
    "                x.append(train)\n",
    "            x = np.array(x).reshape(-1,6)\n",
    "            y = np.array(normalised_y).reshape(-1,1)\n",
    "            x_pressure.append(np.c_[x, y])\n",
    "        else:\n",
    "            for i in range(len(data_name)):\n",
    "                train = []\n",
    "                for j in range(len(normalised_x[i])):\n",
    "                    train.append([N, lL, hH, LH, data_name[i], normalised_x[i][j]])\n",
    "                train = np.array(train).reshape(-1, 6)\n",
    "                x.append(train)\n",
    "            x = np.array(x).reshape(-1,6)\n",
    "            y = np.array(normalised_y).reshape(-1,1)\n",
    "            x_impulses.append(np.c_[x, y])\n",
    "    x_pressure = np.array(x_pressure).reshape(-1, 7)\n",
    "    x_impulses = np.array(x_impulses).reshape(-1, 7)\n",
    "    data_pressure = pd.DataFrame(x_pressure, columns=[\"N\", \"lL\", \"hH\", \"LH\", \"data_name\", \"x\", \"y\"])\n",
    "    data_impulses = pd.DataFrame(x_impulses, columns=[\"N\", \"lL\", \"hH\", \"LH\", \"data_name\", \"x\", \"y\"])\n",
    "    data_pressure.to_csv(\"pressure_data.csv\", index=False)\n",
    "    print('Save Pressure Data Success!')\n",
    "    data_impulses.to_csv(\"impulses_data.csv\", index=False)\n",
    "    print('Save Impulses Data Success!')"
   ]
  },
  {
   "cell_type": "code",
   "execution_count": null,
   "metadata": {
    "collapsed": true
   },
   "outputs": [],
   "source": []
  }
 ],
 "metadata": {
  "kernelspec": {
   "display_name": "Python 3",
   "language": "python",
   "name": "python3"
  },
  "language_info": {
   "codemirror_mode": {
    "name": "ipython",
    "version": 3
   },
   "file_extension": ".py",
   "mimetype": "text/x-python",
   "name": "python",
   "nbconvert_exporter": "python",
   "pygments_lexer": "ipython3",
   "version": "3.6.6"
  }
 },
 "nbformat": 4,
 "nbformat_minor": 2
}
