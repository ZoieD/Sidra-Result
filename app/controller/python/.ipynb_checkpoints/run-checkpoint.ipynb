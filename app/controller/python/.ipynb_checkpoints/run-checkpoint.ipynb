{
 "cells": [
  {
   "cell_type": "code",
   "execution_count": 1,
   "metadata": {},
   "outputs": [
    {
     "name": "stderr",
     "output_type": "stream",
     "text": [
      "Using TensorFlow backend.\n"
     ]
    }
   ],
   "source": [
    "import numpy as np\n",
    "from keras.layers import Dense,Dropout,Activation,Input\n",
    "from keras.models import Sequential,Model"
   ]
  },
  {
   "cell_type": "code",
   "execution_count": 4,
   "metadata": {},
   "outputs": [
    {
     "name": "stdout",
     "output_type": "stream",
     "text": [
      "_________________________________________________________________\n",
      "Layer (type)                 Output Shape              Param #   \n",
      "=================================================================\n",
      "dense_6 (Dense)              (None, 100)               700       \n",
      "_________________________________________________________________\n",
      "dense_7 (Dense)              (None, 80)                8080      \n",
      "_________________________________________________________________\n",
      "dense_8 (Dense)              (None, 40)                3240      \n",
      "_________________________________________________________________\n",
      "dense_9 (Dense)              (None, 1)                 41        \n",
      "=================================================================\n",
      "Total params: 12,061\n",
      "Trainable params: 12,061\n",
      "Non-trainable params: 0\n",
      "_________________________________________________________________\n",
      "None\n"
     ]
    }
   ],
   "source": [
    "#model create\n",
    "def make_model():\n",
    "    model=Sequential()\n",
    "    model.add(Dense(units=100,activation='relu',input_dim=6))\n",
    "#     model.add(Dropout(0.05))\n",
    "    model.add(Dense(units=80,activation='relu'))\n",
    "    model.add(Dense(units=40,activation='relu'))\n",
    "#     model.add(Dropout(0.05))\n",
    "    model.add(Dense(units=1,activation=None))\n",
    "    model.compile(loss='mse',optimizer='adam',metrics=['accuracy'])\n",
    "    print(model.summary())\n",
    "    return model\n",
    "model = make_model()"
   ]
  },
  {
   "cell_type": "code",
   "execution_count": 7,
   "metadata": {},
   "outputs": [
    {
     "name": "stdout",
     "output_type": "stream",
     "text": [
      "[[ 458.64450073]]\n"
     ]
    }
   ],
   "source": [
    "model.load_weights('modules/pressure_module.h5',by_name=False)\n",
    "# arr = [N, lL, hH, LH, Za, LRa]\n",
    "x_test_pressure = np.array([[1, 0.10, 0.10, 0.625, 0.25, 20]])\n",
    "pred_pressure = model.predict(x_test_pressure)\n",
    "print(pred_pressure)"
   ]
  },
  {
   "cell_type": "code",
   "execution_count": 8,
   "metadata": {},
   "outputs": [
    {
     "name": "stdout",
     "output_type": "stream",
     "text": [
      "[[ 25.51183319]]\n"
     ]
    }
   ],
   "source": [
    "model.load_weights('modules/impulses_module.h5',by_name=False)\n",
    "# arr = [N, lL, hH, LH, Za, LRa]\n",
    "x_test_impulses = np.array([[1, 0.10, 0.10, 0.625, 0.25, 20]])\n",
    "pred_impulses = model.predict(x_test_impulses)\n",
    "print(pred_impulses)"
   ]
  },
  {
   "cell_type": "code",
   "execution_count": null,
   "metadata": {
    "collapsed": true
   },
   "outputs": [],
   "source": []
  }
 ],
 "metadata": {
  "kernelspec": {
   "display_name": "Python 3",
   "language": "python",
   "name": "python3"
  },
  "language_info": {
   "codemirror_mode": {
    "name": "ipython",
    "version": 3
   },
   "file_extension": ".py",
   "mimetype": "text/x-python",
   "name": "python",
   "nbconvert_exporter": "python",
   "pygments_lexer": "ipython3",
   "version": "3.6.2"
  }
 },
 "nbformat": 4,
 "nbformat_minor": 2
}
